{
 "cells": [
  {
   "cell_type": "code",
   "execution_count": 40,
   "metadata": {
    "id": "GPdijxPCG5-p"
   },
   "outputs": [],
   "source": [
    "import pandas as pd\n",
    "import numpy as np\n",
    "from sklearn.model_selection import train_test_split\n",
    "from sklearn.feature_extraction.text import CountVectorizer\n",
    "from sklearn.svm import SVC\n",
    "from sklearn.metrics import accuracy_score, classification_report\n",
    "\n",
    "import nltk\n",
    "from nltk.tokenize import word_tokenize\n",
    "from nltk.corpus import stopwords\n",
    "from nltk.stem import WordNetLemmatizer"
   ]
  },
  {
   "cell_type": "code",
   "execution_count": 41,
   "metadata": {
    "colab": {
     "base_uri": "https://localhost:8080/"
    },
    "id": "9xPzFkYScWH6",
    "outputId": "38df0678-2eac-4cf4-afd4-26716939898f"
   },
   "outputs": [
    {
     "name": "stderr",
     "output_type": "stream",
     "text": [
      "[nltk_data] Downloading package punkt to /root/nltk_data...\n",
      "[nltk_data]   Package punkt is already up-to-date!\n",
      "[nltk_data] Downloading package stopwords to /root/nltk_data...\n",
      "[nltk_data]   Package stopwords is already up-to-date!\n",
      "[nltk_data] Downloading package wordnet to /root/nltk_data...\n",
      "[nltk_data]   Package wordnet is already up-to-date!\n"
     ]
    },
    {
     "data": {
      "text/plain": [
       "True"
      ]
     },
     "execution_count": 41,
     "metadata": {},
     "output_type": "execute_result"
    }
   ],
   "source": [
    "nltk.download('punkt')\n",
    "nltk.download('stopwords')\n",
    "nltk.download('wordnet')"
   ]
  },
  {
   "cell_type": "markdown",
   "metadata": {
    "id": "uVphuWkEUtVM"
   },
   "source": [
    "# **الف)**"
   ]
  },
  {
   "cell_type": "code",
   "execution_count": 42,
   "metadata": {
    "id": "w01sjgCeHgIM"
   },
   "outputs": [],
   "source": [
    "data=pd.read_csv('/content/drive/MyDrive/Colab Notebooks/trspam.csv', on_bad_lines='skip', verbose=False, header=0, names=['email', 'class'])\n",
    "x = list(data['email'])\n",
    "y = list(data['class'])"
   ]
  },
  {
   "cell_type": "code",
   "execution_count": 43,
   "metadata": {
    "colab": {
     "base_uri": "https://localhost:8080/"
    },
    "id": "bR2P9sVusAxd",
    "outputId": "4f28ca15-1c22-43c7-838b-936ae6ffc593"
   },
   "outputs": [
    {
     "name": "stdout",
     "output_type": "stream",
     "text": [
      "Number of data 701\n",
      "Number of missing values: \n",
      "email    1\n",
      "class    0\n",
      "dtype: int64\n",
      "Number of data after delete missing values:  700\n"
     ]
    }
   ],
   "source": [
    "print(\"Number of data\", data.shape[0])\n",
    "\n",
    "missing_count = data.isnull().sum()\n",
    "print(\"Number of missing values: \")\n",
    "print(missing_count)\n",
    "\n",
    "data_cleaned = data.dropna()\n",
    "print(\"Number of data after delete missing values: \", data_cleaned.shape[0])"
   ]
  },
  {
   "cell_type": "code",
   "execution_count": 44,
   "metadata": {
    "id": "kK47SraqUqik"
   },
   "outputs": [],
   "source": [
    "train_data, test_data = train_test_split(data, test_size=0.3, random_state=42)"
   ]
  },
  {
   "cell_type": "markdown",
   "metadata": {
    "id": "J2mAYav9U98v"
   },
   "source": [
    "# **ب)**"
   ]
  },
  {
   "cell_type": "code",
   "execution_count": 45,
   "metadata": {
    "id": "6v5tDj0Ab3bf"
   },
   "outputs": [],
   "source": [
    "def preprocess_text(text):\n",
    "    tokens = word_tokenize(text)\n",
    "\n",
    "    tokens = [token.lower() for token in tokens]\n",
    "\n",
    "    stop_words = set(stopwords.words('english'))\n",
    "    filtered_tokens = [token for token in tokens if token not in stop_words]\n",
    "\n",
    "    lemmatizer = WordNetLemmatizer()\n",
    "    lemmatized_tokens = [lemmatizer.lemmatize(token) for token in filtered_tokens]\n",
    "\n",
    "    return \" \".join(lemmatized_tokens)"
   ]
  },
  {
   "cell_type": "code",
   "execution_count": null,
   "metadata": {},
   "outputs": [],
   "source": [
    "train_data['email_processed'] = train_data['email'].apply(preprocess_text)\n",
    "test_data['email_processed'] = test_data['email'].apply(preprocess_text) "
   ]
  },
  {
   "cell_type": "code",
   "execution_count": 39,
   "metadata": {
    "id": "Nr0KrKBkdEMv"
   },
   "outputs": [],
   "source": [
    "vectorizer = CountVectorizer()\n",
    "X_train = vectorizer.fit_transform(train_data['email_processed'])\n",
    "X_test = vectorizer.transform(test_data['email_processed'])\n",
    "\n",
    "y_train = train_data['class']\n",
    "y_test = test_data['class']"
   ]
  },
  {
   "cell_type": "markdown",
   "metadata": {
    "id": "9XAUaQbXcFUl"
   },
   "source": [
    "# **پ)**"
   ]
  },
  {
   "cell_type": "code",
   "execution_count": null,
   "metadata": {
    "id": "Jz3ofnqi2gBI"
   },
   "outputs": [],
   "source": [
    "C_values = [0.001, 0.01, 0.1, 1, 10, 100, 1000]\n",
    "results = {}"
   ]
  },
  {
   "cell_type": "code",
   "execution_count": 25,
   "metadata": {
    "colab": {
     "base_uri": "https://localhost:8080/"
    },
    "id": "pPvy2w5gYlDy",
    "outputId": "2911ba8b-664a-4be5-8303-a50a9fab19aa"
   },
   "outputs": [
    {
     "name": "stdout",
     "output_type": "stream",
     "text": [
      "Linear Kernel:\n",
      "\n",
      "C=0.001\n",
      "Accuracy: 0.8815\n",
      "Number of Support Vectors (per class): [175 126]\n",
      "              precision    recall  f1-score   support\n",
      "\n",
      "         ham       0.83      0.99      0.90       118\n",
      "        spam       0.99      0.74      0.85        93\n",
      "\n",
      "    accuracy                           0.88       211\n",
      "   macro avg       0.91      0.87      0.88       211\n",
      "weighted avg       0.90      0.88      0.88       211\n",
      "\n",
      "--------------------------------------------------\n",
      "C=0.01\n",
      "Accuracy: 0.9289\n",
      "Number of Support Vectors (per class): [160  87]\n",
      "              precision    recall  f1-score   support\n",
      "\n",
      "         ham       0.90      0.98      0.94       118\n",
      "        spam       0.98      0.86      0.91        93\n",
      "\n",
      "    accuracy                           0.93       211\n",
      "   macro avg       0.94      0.92      0.93       211\n",
      "weighted avg       0.93      0.93      0.93       211\n",
      "\n",
      "--------------------------------------------------\n",
      "C=0.1\n",
      "Accuracy: 0.9431\n",
      "Number of Support Vectors (per class): [144  81]\n",
      "              precision    recall  f1-score   support\n",
      "\n",
      "         ham       0.93      0.97      0.95       118\n",
      "        spam       0.97      0.90      0.93        93\n",
      "\n",
      "    accuracy                           0.94       211\n",
      "   macro avg       0.95      0.94      0.94       211\n",
      "weighted avg       0.94      0.94      0.94       211\n",
      "\n",
      "--------------------------------------------------\n",
      "C=1\n",
      "Accuracy: 0.9336\n",
      "Number of Support Vectors (per class): [107  80]\n",
      "              precision    recall  f1-score   support\n",
      "\n",
      "         ham       0.91      0.97      0.94       118\n",
      "        spam       0.96      0.88      0.92        93\n",
      "\n",
      "    accuracy                           0.93       211\n",
      "   macro avg       0.94      0.93      0.93       211\n",
      "weighted avg       0.94      0.93      0.93       211\n",
      "\n",
      "--------------------------------------------------\n",
      "C=10\n",
      "Accuracy: 0.9336\n",
      "Number of Support Vectors (per class): [107  80]\n",
      "              precision    recall  f1-score   support\n",
      "\n",
      "         ham       0.91      0.97      0.94       118\n",
      "        spam       0.96      0.88      0.92        93\n",
      "\n",
      "    accuracy                           0.93       211\n",
      "   macro avg       0.94      0.93      0.93       211\n",
      "weighted avg       0.94      0.93      0.93       211\n",
      "\n",
      "--------------------------------------------------\n",
      "C=100\n",
      "Accuracy: 0.9336\n",
      "Number of Support Vectors (per class): [107  80]\n",
      "              precision    recall  f1-score   support\n",
      "\n",
      "         ham       0.91      0.97      0.94       118\n",
      "        spam       0.96      0.88      0.92        93\n",
      "\n",
      "    accuracy                           0.93       211\n",
      "   macro avg       0.94      0.93      0.93       211\n",
      "weighted avg       0.94      0.93      0.93       211\n",
      "\n",
      "--------------------------------------------------\n",
      "C=1000\n",
      "Accuracy: 0.9336\n",
      "Number of Support Vectors (per class): [107  80]\n",
      "              precision    recall  f1-score   support\n",
      "\n",
      "         ham       0.91      0.97      0.94       118\n",
      "        spam       0.96      0.88      0.92        93\n",
      "\n",
      "    accuracy                           0.93       211\n",
      "   macro avg       0.94      0.93      0.93       211\n",
      "weighted avg       0.94      0.93      0.93       211\n",
      "\n",
      "--------------------------------------------------\n",
      "Best C Value: 0.1 with Accuracy: 0.9431\n",
      "Support Vectors for Best C: [144  81]\n"
     ]
    }
   ],
   "source": [
    "print(\"Linear Kernel:\\n\")\n",
    "for C in C_values:\n",
    "    model = SVC(C=C, kernel='linear', random_state=42)\n",
    "    model.fit(X_train, y_train)\n",
    "\n",
    "    y_pred = model.predict(X_test)\n",
    "    accuracy = accuracy_score(y_test, y_pred)\n",
    "    support_vectors = model.n_support_\n",
    "\n",
    "    results[C] = {\n",
    "        \"accuracy\": accuracy,\n",
    "        \"support_vectors\": support_vectors\n",
    "    }\n",
    "\n",
    "    print(f\"C={C}\")\n",
    "    print(f\"Accuracy: {accuracy:.4f}\")\n",
    "    print(f\"Number of Support Vectors (per class): {support_vectors}\")\n",
    "    print(classification_report(y_test, y_pred))\n",
    "    print(\"-\" * 50)\n",
    "\n",
    "best_C = max(results, key=lambda c: results[c][\"accuracy\"])\n",
    "print(f\"Best C Value: {best_C} with Accuracy: {results[best_C]['accuracy']:.4f}\")\n",
    "print(f\"Support Vectors for Best C: {results[best_C]['support_vectors']}\")\n"
   ]
  },
  {
   "cell_type": "code",
   "execution_count": 47,
   "metadata": {
    "colab": {
     "base_uri": "https://localhost:8080/"
    },
    "id": "UaL2mPFin-bE",
    "outputId": "86485930-84e7-4442-b53c-b3ae1f062711"
   },
   "outputs": [
    {
     "name": "stdout",
     "output_type": "stream",
     "text": [
      "Polynomial Kernel:\n",
      "\n",
      "Degree=1, Coef0=-1\n",
      "Accuracy: 0.7488\n",
      "              precision    recall  f1-score   support\n",
      "\n",
      "         ham       0.69      0.99      0.82       118\n",
      "        spam       0.98      0.44      0.61        93\n",
      "\n",
      "    accuracy                           0.75       211\n",
      "   macro avg       0.83      0.72      0.71       211\n",
      "weighted avg       0.82      0.75      0.72       211\n",
      "\n",
      "--------------------------------------------------\n",
      "Degree=1, Coef0=0\n",
      "Accuracy: 0.7488\n",
      "              precision    recall  f1-score   support\n",
      "\n",
      "         ham       0.69      0.99      0.82       118\n",
      "        spam       0.98      0.44      0.61        93\n",
      "\n",
      "    accuracy                           0.75       211\n",
      "   macro avg       0.83      0.72      0.71       211\n",
      "weighted avg       0.82      0.75      0.72       211\n",
      "\n",
      "--------------------------------------------------\n",
      "Degree=1, Coef0=1\n",
      "Accuracy: 0.7488\n",
      "              precision    recall  f1-score   support\n",
      "\n",
      "         ham       0.69      0.99      0.82       118\n",
      "        spam       0.98      0.44      0.61        93\n",
      "\n",
      "    accuracy                           0.75       211\n",
      "   macro avg       0.83      0.72      0.71       211\n",
      "weighted avg       0.82      0.75      0.72       211\n",
      "\n",
      "--------------------------------------------------\n",
      "Degree=2, Coef0=-1\n",
      "Accuracy: 0.4171\n",
      "              precision    recall  f1-score   support\n",
      "\n",
      "         ham       0.48      0.63      0.55       118\n",
      "        spam       0.24      0.15      0.19        93\n",
      "\n",
      "    accuracy                           0.42       211\n",
      "   macro avg       0.36      0.39      0.37       211\n",
      "weighted avg       0.38      0.42      0.39       211\n",
      "\n",
      "--------------------------------------------------\n",
      "Degree=2, Coef0=0\n",
      "Accuracy: 0.6730\n",
      "              precision    recall  f1-score   support\n",
      "\n",
      "         ham       0.63      1.00      0.77       118\n",
      "        spam       1.00      0.26      0.41        93\n",
      "\n",
      "    accuracy                           0.67       211\n",
      "   macro avg       0.82      0.63      0.59       211\n",
      "weighted avg       0.79      0.67      0.61       211\n",
      "\n",
      "--------------------------------------------------\n",
      "Degree=2, Coef0=1\n",
      "Accuracy: 0.7820\n",
      "              precision    recall  f1-score   support\n",
      "\n",
      "         ham       0.72      0.98      0.83       118\n",
      "        spam       0.96      0.53      0.68        93\n",
      "\n",
      "    accuracy                           0.78       211\n",
      "   macro avg       0.84      0.75      0.76       211\n",
      "weighted avg       0.83      0.78      0.77       211\n",
      "\n",
      "--------------------------------------------------\n",
      "Degree=3, Coef0=-1\n",
      "Accuracy: 0.7820\n",
      "              precision    recall  f1-score   support\n",
      "\n",
      "         ham       0.73      0.97      0.83       118\n",
      "        spam       0.94      0.54      0.68        93\n",
      "\n",
      "    accuracy                           0.78       211\n",
      "   macro avg       0.84      0.76      0.76       211\n",
      "weighted avg       0.82      0.78      0.77       211\n",
      "\n",
      "--------------------------------------------------\n",
      "Degree=3, Coef0=0\n",
      "Accuracy: 0.6588\n",
      "              precision    recall  f1-score   support\n",
      "\n",
      "         ham       0.62      1.00      0.77       118\n",
      "        spam       1.00      0.23      0.37        93\n",
      "\n",
      "    accuracy                           0.66       211\n",
      "   macro avg       0.81      0.61      0.57       211\n",
      "weighted avg       0.79      0.66      0.59       211\n",
      "\n",
      "--------------------------------------------------\n",
      "Degree=3, Coef0=1\n",
      "Accuracy: 0.8199\n",
      "              precision    recall  f1-score   support\n",
      "\n",
      "         ham       0.76      0.98      0.86       118\n",
      "        spam       0.97      0.61      0.75        93\n",
      "\n",
      "    accuracy                           0.82       211\n",
      "   macro avg       0.86      0.80      0.80       211\n",
      "weighted avg       0.85      0.82      0.81       211\n",
      "\n",
      "--------------------------------------------------\n"
     ]
    }
   ],
   "source": [
    "print(\"Polynomial Kernel:\\n\")\n",
    "\n",
    "degrees = [1, 2, 3]\n",
    "coef0_values = [-1, 0, 1]\n",
    "\n",
    "for degree in degrees:\n",
    "    for coef0 in coef0_values:\n",
    "        print(f\"Degree={degree}, Coef0={coef0}\")\n",
    "        model = SVC(C=1, kernel='poly', degree=degree, coef0=coef0, random_state=42)\n",
    "        model.fit(X_train, y_train)\n",
    "        y_pred = model.predict(X_test)\n",
    "\n",
    "        accuracy = accuracy_score(y_test, y_pred)\n",
    "        print(f\"Accuracy: {accuracy:.4f}\")\n",
    "        print(classification_report(y_test, y_pred))\n",
    "        print(\"-\" * 50)\n"
   ]
  },
  {
   "cell_type": "code",
   "execution_count": 27,
   "metadata": {
    "colab": {
     "base_uri": "https://localhost:8080/"
    },
    "id": "N2ptxAA9opPE",
    "outputId": "a953706f-7a00-4f96-b804-1e27793eae05"
   },
   "outputs": [
    {
     "name": "stdout",
     "output_type": "stream",
     "text": [
      "RBF (Radial Basis Function):\n",
      "\n",
      "Gamma=2.9652473016249555e-05\n",
      "Accuracy: 0.6493\n",
      "              precision    recall  f1-score   support\n",
      "\n",
      "         ham       0.62      0.98      0.76       118\n",
      "        spam       0.91      0.23      0.36        93\n",
      "\n",
      "    accuracy                           0.65       211\n",
      "   macro avg       0.77      0.60      0.56       211\n",
      "weighted avg       0.75      0.65      0.58       211\n",
      "\n",
      "--------------------------------------------------\n",
      "Gamma=8.79269155979408e-10\n",
      "Accuracy: 0.5592\n",
      "              precision    recall  f1-score   support\n",
      "\n",
      "         ham       0.56      1.00      0.72       118\n",
      "        spam       0.00      0.00      0.00        93\n",
      "\n",
      "    accuracy                           0.56       211\n",
      "   macro avg       0.28      0.50      0.36       211\n",
      "weighted avg       0.31      0.56      0.40       211\n",
      "\n",
      "--------------------------------------------------\n"
     ]
    },
    {
     "name": "stderr",
     "output_type": "stream",
     "text": [
      "/usr/local/lib/python3.10/dist-packages/sklearn/metrics/_classification.py:1531: UndefinedMetricWarning: Precision is ill-defined and being set to 0.0 in labels with no predicted samples. Use `zero_division` parameter to control this behavior.\n",
      "  _warn_prf(average, modifier, f\"{metric.capitalize()} is\", len(result))\n",
      "/usr/local/lib/python3.10/dist-packages/sklearn/metrics/_classification.py:1531: UndefinedMetricWarning: Precision is ill-defined and being set to 0.0 in labels with no predicted samples. Use `zero_division` parameter to control this behavior.\n",
      "  _warn_prf(average, modifier, f\"{metric.capitalize()} is\", len(result))\n",
      "/usr/local/lib/python3.10/dist-packages/sklearn/metrics/_classification.py:1531: UndefinedMetricWarning: Precision is ill-defined and being set to 0.0 in labels with no predicted samples. Use `zero_division` parameter to control this behavior.\n",
      "  _warn_prf(average, modifier, f\"{metric.capitalize()} is\", len(result))\n"
     ]
    }
   ],
   "source": [
    "print(\"RBF (Radial Basis Function):\\n\")\n",
    "\n",
    "gamma_values = [1 / X_train.shape[1], 1 / (X_train.shape[1] ** 2)]  # 1/K و 1/K^2\n",
    "\n",
    "for gamma in gamma_values:\n",
    "    print(f\"Gamma={gamma}\")\n",
    "    model = SVC(C=1, kernel='rbf', gamma=gamma, random_state=42)\n",
    "    model.fit(X_train, y_train)\n",
    "    y_pred = model.predict(X_test)\n",
    "    accuracy = accuracy_score(y_test, y_pred)\n",
    "    print(f\"Accuracy: {accuracy:.4f}\")\n",
    "    print(classification_report(y_test, y_pred))\n",
    "    print(\"-\" * 50)"
   ]
  }
 ],
 "metadata": {
  "colab": {
   "provenance": []
  },
  "kernelspec": {
   "display_name": "Python 3",
   "name": "python3"
  },
  "language_info": {
   "name": "python"
  }
 },
 "nbformat": 4,
 "nbformat_minor": 0
}
