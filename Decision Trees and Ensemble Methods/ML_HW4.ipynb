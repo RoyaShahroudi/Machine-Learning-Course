{
  "nbformat": 4,
  "nbformat_minor": 0,
  "metadata": {
    "colab": {
      "provenance": []
    },
    "kernelspec": {
      "name": "python3",
      "display_name": "Python 3"
    },
    "language_info": {
      "name": "python"
    }
  },
  "cells": [
    {
      "cell_type": "code",
      "source": [
        "from sklearn.datasets import fetch_openml\n",
        "from sklearn.tree import DecisionTreeClassifier\n",
        "from sklearn.metrics import accuracy_score\n",
        "from sklearn.model_selection import train_test_split\n",
        "from sklearn.ensemble import RandomForestClassifier\n",
        "from sklearn.ensemble import AdaBoostClassifier\n",
        "from scipy.stats import mode\n",
        "import numpy as np"
      ],
      "metadata": {
        "id": "0subcoZBOWj3"
      },
      "execution_count": 1,
      "outputs": []
    },
    {
      "cell_type": "code",
      "source": [
        "mnist = fetch_openml('mnist_784', version=1, as_frame=False)\n",
        "X, y = mnist.data, mnist.target"
      ],
      "metadata": {
        "id": "AGOE3EWkOXY8"
      },
      "execution_count": 2,
      "outputs": []
    },
    {
      "cell_type": "code",
      "source": [
        "X_train, X_test, y_train, y_test = train_test_split(X, y, test_size=10000/70000, random_state=42)"
      ],
      "metadata": {
        "id": "RXYfaI_QP68b"
      },
      "execution_count": 3,
      "outputs": []
    },
    {
      "cell_type": "markdown",
      "source": [
        "# مسئله **1**"
      ],
      "metadata": {
        "id": "DT4XN12M-7bg"
      }
    },
    {
      "cell_type": "markdown",
      "source": [
        "# **الف)**"
      ],
      "metadata": {
        "id": "1Neyp_i8QvA2"
      }
    },
    {
      "cell_type": "code",
      "source": [
        "decision_tree = DecisionTreeClassifier(random_state=42)\n",
        "decision_tree.fit(X_train, y_train)\n",
        "y_pred_single = decision_tree.predict(X_test)\n",
        "accuracy_decision_tree = accuracy_score(y_test, y_pred_single)\n",
        "\n",
        "print(f\"accuracy of decision tree: {accuracy_decision_tree:.2%}\")"
      ],
      "metadata": {
        "colab": {
          "base_uri": "https://localhost:8080/"
        },
        "id": "UdykWgXnQC1x",
        "outputId": "afddfa4a-af17-4057-b9b3-24e0cafda96f"
      },
      "execution_count": null,
      "outputs": [
        {
          "output_type": "stream",
          "name": "stdout",
          "text": [
            "accuracy of decision tree: 87.03%\n"
          ]
        }
      ]
    },
    {
      "cell_type": "markdown",
      "source": [
        "# **ب)**"
      ],
      "metadata": {
        "id": "PIbb3uKsQ6aq"
      }
    },
    {
      "cell_type": "code",
      "execution_count": null,
      "metadata": {
        "colab": {
          "base_uri": "https://localhost:8080/"
        },
        "id": "22Wm11d2Ld16",
        "outputId": "e6a18fdf-9c94-4d71-cd6d-67a2fafb586d"
      },
      "outputs": [
        {
          "output_type": "stream",
          "name": "stdout",
          "text": [
            "accuracy of tree number 1 on train data: 92.65%\n",
            "accuracy of tree number 2 on train data: 92.54%\n",
            "accuracy of tree number 3 on train data: 92.44%\n",
            "accuracy of tree number 4 on train data: 92.47%\n",
            "accuracy of tree number 5 on train data: 92.53%\n",
            "accuracy of tree number 6 on train data: 92.38%\n",
            "accuracy of tree number 7 on train data: 92.58%\n",
            "accuracy of tree number 8 on train data: 92.65%\n",
            "accuracy of tree number 9 on train data: 92.56%\n",
            "accuracy of tree number 10 on train data: 92.33%\n",
            "accuracy of tree number 11 on train data: 92.62%\n",
            "accuracy of tree number 12 on train data: 92.59%\n",
            "accuracy of tree number 13 on train data: 92.49%\n",
            "accuracy of tree number 14 on train data: 92.69%\n",
            "accuracy of tree number 15 on train data: 92.55%\n",
            "accuracy of tree number 16 on train data: 92.55%\n",
            "accuracy of tree number 17 on train data: 92.58%\n",
            "accuracy of tree number 18 on train data: 92.38%\n",
            "accuracy of tree number 19 on train data: 92.59%\n",
            "accuracy of tree number 20 on train data: 92.31%\n",
            "mean accuracy of trees on train data: 92.53%\n"
          ]
        }
      ],
      "source": [
        "predictions = []\n",
        "weights = []\n",
        "\n",
        "for i in range(20):\n",
        "    random_subset = np.random.choice(len(X_train), size=len(X_train) // 2, replace=False)\n",
        "    random_feature = np.random.choice(X_train.shape[1], size=int(X_train.shape[1] * 0.7), replace=False)\n",
        "\n",
        "    X_subset = X_train[random_subset][:, random_feature]\n",
        "    y_subset = y_train[random_subset]\n",
        "\n",
        "    tree = DecisionTreeClassifier(random_state=i)\n",
        "    tree.fit(X_subset, y_subset)\n",
        "\n",
        "    y_train_pred = tree.predict(X_train[:][:, random_feature])\n",
        "    train_accuracy = accuracy_score(y_train, y_train_pred)\n",
        "    weights.append(train_accuracy)\n",
        "\n",
        "    X_test_subset = X_test[:, random_feature]\n",
        "    y_test_pred = tree.predict(X_test_subset)\n",
        "    predictions.append(y_test_pred)\n",
        "\n",
        "    print(f\"accuracy of tree number {i+1} on train data: {train_accuracy:.2%}\")\n",
        "\n",
        "mean_accuracy_trees = np.mean(weights)\n",
        "print(f\"mean accuracy of trees on train data: {mean_accuracy_trees:.2%}\")"
      ]
    },
    {
      "cell_type": "markdown",
      "source": [
        "# **پ)**"
      ],
      "metadata": {
        "id": "TMklDaF4VCPM"
      }
    },
    {
      "cell_type": "code",
      "source": [
        "predictions = np.array(predictions, dtype=int)\n",
        "majority_vote = mode(predictions, axis=0).mode.flatten()\n",
        "accuracy_majority_vote = accuracy_score(y_test.astype(int), majority_vote)\n",
        "print(f\"دقت رای اکثریت: {accuracy_majority_vote:.2%}\")"
      ],
      "metadata": {
        "colab": {
          "base_uri": "https://localhost:8080/"
        },
        "id": "p6dqwwQ-hbnp",
        "outputId": "33c6a5b4-1fee-4ae1-d7b7-4fe0cb0e8591"
      },
      "execution_count": null,
      "outputs": [
        {
          "output_type": "stream",
          "name": "stdout",
          "text": [
            "دقت رای اکثریت: 95.36%\n"
          ]
        }
      ]
    },
    {
      "cell_type": "code",
      "source": [
        "weights = np.array(weights)\n",
        "weights /= weights.sum()\n",
        "\n",
        "weighted_votes = np.zeros((len(y_test), len(set(y_test))), dtype=float)\n",
        "for i, pred in enumerate(predictions):\n",
        "    for j in range(len(y_test)):\n",
        "        weighted_votes[j, int(pred[j])] += weights[i]\n",
        "\n",
        "weighted_vote = np.argmax(weighted_votes, axis=1)\n",
        "\n",
        "accuracy_weighted_vote = accuracy_score(y_test.astype(int), weighted_vote)\n",
        "print(f\"دقت رأی‌گیری وزنی: {accuracy_weighted_vote:.2%}\")"
      ],
      "metadata": {
        "colab": {
          "base_uri": "https://localhost:8080/"
        },
        "id": "nrwIzmor1pv-",
        "outputId": "4fc42741-2fe2-42ba-92db-d7d7139bc122"
      },
      "execution_count": null,
      "outputs": [
        {
          "output_type": "stream",
          "name": "stdout",
          "text": [
            "دقت رأی‌گیری وزنی: 95.53%\n"
          ]
        }
      ]
    },
    {
      "cell_type": "markdown",
      "source": [
        "# **ت)**"
      ],
      "metadata": {
        "id": "zVedX_fKjcoQ"
      }
    },
    {
      "cell_type": "code",
      "source": [
        "rf = RandomForestClassifier(n_estimators=20, max_features=0.7, max_samples=0.5, random_state=42)\n",
        "rf.fit(X_train, y_train)\n",
        "rf_predictions = rf.predict(X_test)\n",
        "accuracy_rf = accuracy_score(y_test, rf_predictions)\n",
        "print(f\"accuracy of Random Forest: {accuracy_rf:.2%}\")"
      ],
      "metadata": {
        "colab": {
          "base_uri": "https://localhost:8080/"
        },
        "id": "JdGtdrAshhf2",
        "outputId": "7d65f39c-3990-4b0b-8941-97b1c70e9152"
      },
      "execution_count": null,
      "outputs": [
        {
          "output_type": "stream",
          "name": "stdout",
          "text": [
            "accuracy of Random Forest: 95.25%\n"
          ]
        }
      ]
    },
    {
      "cell_type": "markdown",
      "source": [
        "# مسئله **2**"
      ],
      "metadata": {
        "id": "TC_SyFAGLIIr"
      }
    },
    {
      "cell_type": "code",
      "source": [
        "mnist = fetch_openml('mnist_784', version=1)\n",
        "X, y = mnist.data, mnist.target.astype(int)\n",
        "n_classes = len(np.unique(y))\n",
        "\n",
        "X_train, X_test, y_train, y_test = train_test_split(X, y, test_size=0.2, random_state=42)\n",
        "\n",
        "def adaboost_binary(X_train, y_train, X_test, y_test, n_estimators=20):\n",
        "    n_samples, n_features = X_train.shape\n",
        "    weights = np.ones(n_samples) / n_samples\n",
        "    classifiers = []\n",
        "    alphas = []\n",
        "\n",
        "    for estimator in range(n_estimators):\n",
        "        tree = DecisionTreeClassifier(max_depth=1)\n",
        "        tree.fit(X_train, y_train, sample_weight=weights)\n",
        "        y_pred = tree.predict(X_train)\n",
        "\n",
        "        err = np.sum(weights * (y_pred != y_train)) / np.sum(weights)\n",
        "        if err >= 0.5:\n",
        "            continue\n",
        "        if err == 0:\n",
        "            break\n",
        "\n",
        "        alpha = 0.5 * np.log((1 - err) / err)\n",
        "        alphas.append(alpha)\n",
        "        classifiers.append(tree)\n",
        "\n",
        "        weights = weights * np.exp(-alpha * y_train * y_pred)\n",
        "        weights /= np.sum(weights)\n",
        "\n",
        "    def predict(X):\n",
        "        final_prediction = np.zeros(X.shape[0])\n",
        "        for alpha, tree in zip(alphas, classifiers):\n",
        "            final_prediction += alpha * tree.predict(X)\n",
        "        return final_prediction\n",
        "\n",
        "    return classifiers, alphas, predict\n",
        "\n",
        "def adaboost_multiclass(X_train, y_train, X_test, y_test, n_estimators=20):\n",
        "    classifiers = {}\n",
        "    alphas = {}\n",
        "\n",
        "    for c in range(n_classes):\n",
        "        y_train_binary = np.where(y_train == c, 1, -1)\n",
        "        y_test_binary = np.where(y_test == c, 1, -1)\n",
        "        classifiers[c], alphas[c], predict_fn = adaboost_binary(X_train, y_train_binary, X_test, y_test_binary, n_estimators)\n",
        "\n",
        "    def predict(X):\n",
        "        confidence_scores = np.zeros((X.shape[0], n_classes))\n",
        "        for c in range(n_classes):\n",
        "            predict_fn = adaboost_binary(X_train, np.where(y_train == c, 1, -1), X_test, np.where(y_test == c, 1, -1), n_estimators)[2]\n",
        "            confidence_scores[:, c] = predict_fn(X)\n",
        "        return np.argmax(confidence_scores, axis=1)\n",
        "\n",
        "    y_pred = predict(X_test)\n",
        "    accuracy = accuracy_score(y_test, y_pred)\n",
        "    return accuracy\n",
        "\n",
        "accuracy = adaboost_multiclass(X_train, y_train, X_test, y_test, n_estimators=20)\n",
        "print(f\"Multiclass Adaboost Accuracy: {accuracy * 100:.2f}%\")\n"
      ],
      "metadata": {
        "colab": {
          "base_uri": "https://localhost:8080/"
        },
        "id": "aTJ8N_bqiKWe",
        "outputId": "7a121b87-c523-4062-8be4-5e3a830b4af8"
      },
      "execution_count": 12,
      "outputs": [
        {
          "output_type": "stream",
          "name": "stdout",
          "text": [
            "Multiclass Adaboost Accuracy: 82.49%\n"
          ]
        }
      ]
    },
    {
      "cell_type": "code",
      "source": [
        "adaboost_ready = AdaBoostClassifier(n_estimators=20, random_state=42)\n",
        "adaboost_ready.fit(X_train, y_train)\n",
        "y_pred_ready = adaboost_ready.predict(X_test)\n",
        "\n",
        "accuracy_ready = accuracy_score(y_test, y_pred_ready)\n",
        "print(f\"Accuracy of Adaboost from sklearn: {accuracy_ready:.2f}%\")"
      ],
      "metadata": {
        "id": "VP3TjLfPO0-g"
      },
      "execution_count": null,
      "outputs": []
    }
  ]
}