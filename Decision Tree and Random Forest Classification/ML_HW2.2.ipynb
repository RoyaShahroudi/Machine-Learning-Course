{
 "cells": [
  {
   "cell_type": "code",
   "execution_count": 1,
   "metadata": {
    "id": "dGjrXknhSxyZ"
   },
   "outputs": [],
   "source": [
    "import pandas as pd\n",
    "import numpy as np\n",
    "import kagglehub"
   ]
  },
  {
   "cell_type": "code",
   "execution_count": 2,
   "metadata": {
    "colab": {
     "base_uri": "https://localhost:8080/"
    },
    "id": "ndn6HPQgTARt",
    "outputId": "9ce04316-d4b7-4d1e-9669-db8ff697852a"
   },
   "outputs": [
    {
     "name": "stdout",
     "output_type": "stream",
     "text": [
      "Downloading from https://www.kaggle.com/api/v1/datasets/download/tareqjoy/trainplaytennis?dataset_version_number=1...\n"
     ]
    },
    {
     "name": "stderr",
     "output_type": "stream",
     "text": [
      "100%|██████████| 314/314 [00:00<00:00, 540kB/s]"
     ]
    },
    {
     "name": "stdout",
     "output_type": "stream",
     "text": [
      "Extracting files...\n"
     ]
    },
    {
     "name": "stderr",
     "output_type": "stream",
     "text": [
      "\n"
     ]
    }
   ],
   "source": [
    "path = kagglehub.dataset_download(\"tareqjoy/trainplaytennis\")"
   ]
  },
  {
   "cell_type": "code",
   "execution_count": 67,
   "metadata": {
    "colab": {
     "base_uri": "https://localhost:8080/"
    },
    "id": "LKQJF0shTCAc",
    "outputId": "de64a8ed-2f0a-4dcd-9e82-e75714330c3b"
   },
   "outputs": [
    {
     "name": "stdout",
     "output_type": "stream",
     "text": [
      "    Outlook Temperature Humidity    Wind Play Tennis\n",
      "0     Sunny         Hot     High    Weak          No\n",
      "1     Sunny         Hot     High  Strong          No\n",
      "2  Overcast         Hot     High    Weak         Yes\n",
      "3      Rain        Mild     High    Weak         Yes\n",
      "4      Rain        Cool   Normal    Weak         Yes\n"
     ]
    }
   ],
   "source": [
    "train_dataset = pd.read_csv(f\"{path}/PlayTennis.csv\")\n",
    "data = [\n",
    "    {\"Outlook\": \"Overcast\", \"Temperature\": \"Mild\", \"Humidity\": \"Normal\", \"Wind\": \"Weak\", \"Play Tennis\": \"Yes\"},\n",
    "    {\"Outlook\": \"Sunny\", \"Temperature\": \"Mild\", \"Humidity\": \"Normal\", \"Wind\": \"Weak\", \"Play Tennis\": \"Yes\"},\n",
    "    {\"Outlook\": \"Rain\", \"Temperature\": \"Mild\", \"Humidity\": \"Normal\", \"Wind\": \"Weak\", \"Play Tennis\": \"Yes\"},\n",
    "    {\"Outlook\": \"Rain\", \"Temperature\": \"Cool\", \"Humidity\": \"High\", \"Wind\": \"Strong\", \"Play Tennis\": \"No\"}\n",
    "]\n",
    "test_dataset = pd.DataFrame(data)\n",
    "\n",
    "print(train_dataset.head())"
   ]
  },
  {
   "cell_type": "code",
   "execution_count": 71,
   "metadata": {
    "id": "cp72AKu38R_4"
   },
   "outputs": [],
   "source": [
    "target_column = 'Play Tennis'"
   ]
  },
  {
   "cell_type": "code",
   "execution_count": 80,
   "metadata": {
    "id": "LzvDv8fuTGE0"
   },
   "outputs": [],
   "source": [
    "def calculate_entropy(data):\n",
    "    total_count = len(data)\n",
    "    class_counts = data[target_column].value_counts()\n",
    "    entropy = 0\n",
    "\n",
    "    for count in class_counts:\n",
    "        probability = count / total_count\n",
    "        entropy -= probability * np.log2(probability)\n",
    "\n",
    "    return entropy"
   ]
  },
  {
   "cell_type": "code",
   "execution_count": null,
   "metadata": {
    "id": "Rta_7mUZTMpU"
   },
   "outputs": [],
   "source": [
    "def subset_entropy(subset):\n",
    "    total_count = len(subset)\n",
    "    entropy = 0\n",
    "\n",
    "    for _, class_count in subset[target_column].value_counts().items():\n",
    "        if class_count == 0:\n",
    "            continue\n",
    "        probability = class_count / total_count\n",
    "        entropy -= probability * np.log2(probability)\n",
    "\n",
    "    return entropy"
   ]
  },
  {
   "cell_type": "code",
   "execution_count": null,
   "metadata": {
    "id": "FbsnrO-OTOf7"
   },
   "outputs": [],
   "source": [
    "def information_gain(data, split_feature):\n",
    "    total_entropy = calculate_entropy(data)\n",
    "    values = data[split_feature].unique()\n",
    "    weighted_entropy_sum = 0\n",
    "\n",
    "    for value in values:\n",
    "        subset = data[data[split_feature] == value]\n",
    "        subset_entropy_value = subset_entropy(subset)\n",
    "        weighted_entropy_sum += (len(subset) / len(data)) * subset_entropy_value\n",
    "\n",
    "    return total_entropy - weighted_entropy_sum"
   ]
  },
  {
   "cell_type": "code",
   "execution_count": null,
   "metadata": {
    "id": "paOYBAzqTQak"
   },
   "outputs": [],
   "source": [
    "def choose_best_feature(data):\n",
    "    features = [column for column in data.columns if column != target_column]\n",
    "    best_feature = None\n",
    "    max_gain = -1\n",
    "\n",
    "    for feature in features:\n",
    "        gain = information_gain(data, feature)\n",
    "        if gain > max_gain:\n",
    "            max_gain = gain\n",
    "            best_feature = feature\n",
    "\n",
    "    return best_feature"
   ]
  },
  {
   "cell_type": "code",
   "execution_count": null,
   "metadata": {
    "id": "mvBu7bqITSz0"
   },
   "outputs": [],
   "source": [
    "def build_decision_tree(data):\n",
    "    if len(data[target_column].unique()) == 1:\n",
    "        return data[target_column].iloc[0]\n",
    "\n",
    "    if len(data.columns) == 1:\n",
    "        return data[target_column].mode()[0]\n",
    "\n",
    "    best_feature = choose_best_feature(data)\n",
    "    tree = {best_feature: {}}\n",
    "\n",
    "    for value in data[best_feature].unique():\n",
    "        subset = data[data[best_feature] == value].drop(columns=[best_feature])\n",
    "        subtree = build_decision_tree(subset)\n",
    "        tree[best_feature][value] = subtree\n",
    "\n",
    "    return tree\n"
   ]
  },
  {
   "cell_type": "code",
   "execution_count": null,
   "metadata": {
    "id": "0mw7GpzLTUwl"
   },
   "outputs": [],
   "source": [
    "def predict(tree, instance):\n",
    "    if not isinstance(tree, dict):\n",
    "        return tree\n",
    "\n",
    "    root_feature = next(iter(tree))\n",
    "    feature_value = instance[root_feature]\n",
    "\n",
    "    if feature_value not in tree[root_feature]:\n",
    "        return None \n",
    "\n",
    "    return predict(tree[root_feature][feature_value], instance)\n"
   ]
  },
  {
   "cell_type": "code",
   "execution_count": 86,
   "metadata": {
    "id": "TL99VLPcVjFc"
   },
   "outputs": [],
   "source": [
    "def evaluate_model(tree, test_data):\n",
    "    correct_predictions = 0\n",
    "    for index, row in test_data.iterrows():\n",
    "        instance = row.to_dict()\n",
    "        actual = instance.pop(target_column)\n",
    "        predicted = predict(tree, instance)\n",
    "        if predicted == actual:\n",
    "            correct_predictions += 1\n",
    "    accuracy = correct_predictions / len(test_data)\n",
    "    return accuracy"
   ]
  },
  {
   "cell_type": "code",
   "execution_count": null,
   "metadata": {
    "colab": {
     "base_uri": "https://localhost:8080/"
    },
    "id": "JqznAveiXVv0",
    "outputId": "c6247442-8199-4d43-eaaf-b207b15c8dcd"
   },
   "outputs": [
    {
     "name": "stdout",
     "output_type": "stream",
     "text": [
      "Decision Tree: {'Outlook': {'Sunny': {'Humidity': {'High': 'No', 'Normal': 'Yes'}}, 'Overcast': 'Yes', 'Rain': {'Wind': {'Weak': 'Yes', 'Strong': 'No'}}}}\n"
     ]
    }
   ],
   "source": [
    "decision_tree = build_decision_tree(train_dataset)\n",
    "print(\"Decision Tree:\", decision_tree)"
   ]
  },
  {
   "cell_type": "code",
   "execution_count": 88,
   "metadata": {
    "colab": {
     "base_uri": "https://localhost:8080/"
    },
    "id": "kASAv17PUuD0",
    "outputId": "068f3050-9b0b-4348-ba73-e009faac36b5"
   },
   "outputs": [
    {
     "name": "stdout",
     "output_type": "stream",
     "text": [
      "Test instance: {'Outlook': 'Overcast', 'Temperature': 'Mild', 'Humidity': 'Normal', 'Wind': 'Weak'}\n",
      "Actual label: Yes\n",
      "Predicted label: Yes\n"
     ]
    }
   ],
   "source": [
    "test_instance_row = test_dataset.iloc[0].to_dict()\n",
    "actual_label = test_instance_row.pop('Play Tennis')\n",
    "prediction = predict(decision_tree, test_instance_row)\n",
    "print(\"Test instance:\", test_instance_row)\n",
    "print(\"Actual label:\", actual_label)\n",
    "print(\"Predicted label:\", prediction)\n"
   ]
  },
  {
   "cell_type": "code",
   "execution_count": 89,
   "metadata": {
    "colab": {
     "base_uri": "https://localhost:8080/"
    },
    "id": "YSuE2prkVliE",
    "outputId": "46cb778d-bffb-417f-b8f1-3edbac9a2662"
   },
   "outputs": [
    {
     "name": "stdout",
     "output_type": "stream",
     "text": [
      "Model accuracy on test dataset: 1.0\n"
     ]
    }
   ],
   "source": [
    "accuracy = evaluate_model(decision_tree, test_dataset)\n",
    "print(\"Model accuracy on test dataset:\", accuracy)"
   ]
  },
  {
   "cell_type": "code",
   "execution_count": 41,
   "metadata": {
    "colab": {
     "base_uri": "https://localhost:8080/"
    },
    "id": "TycwkzG-cHVG",
    "outputId": "bb526263-d079-4e2f-fc84-d140b9663bc0"
   },
   "outputs": [
    {
     "name": "stdout",
     "output_type": "stream",
     "text": [
      "Collecting anytree\n",
      "  Downloading anytree-2.12.1-py3-none-any.whl.metadata (8.1 kB)\n",
      "Requirement already satisfied: six in /usr/local/lib/python3.10/dist-packages (from anytree) (1.16.0)\n",
      "Downloading anytree-2.12.1-py3-none-any.whl (44 kB)\n",
      "\u001b[2K   \u001b[90m━━━━━━━━━━━━━━━━━━━━━━━━━━━━━━━━━━━━━━━━\u001b[0m \u001b[32m44.9/44.9 kB\u001b[0m \u001b[31m1.7 MB/s\u001b[0m eta \u001b[36m0:00:00\u001b[0m\n",
      "\u001b[?25hInstalling collected packages: anytree\n",
      "Successfully installed anytree-2.12.1\n"
     ]
    }
   ],
   "source": [
    "!pip install anytree"
   ]
  },
  {
   "cell_type": "code",
   "execution_count": 90,
   "metadata": {
    "colab": {
     "base_uri": "https://localhost:8080/"
    },
    "id": "gLC7UGsZbYS0",
    "outputId": "0dd1ff1e-36f3-411a-bc9f-58d032fefc41"
   },
   "outputs": [
    {
     "name": "stdout",
     "output_type": "stream",
     "text": [
      "Decision Tree\n",
      "└── Outlook\n",
      "    ├── Sunny\n",
      "    │   └── Humidity\n",
      "    │       ├── High\n",
      "    │       │   └── No\n",
      "    │       └── Normal\n",
      "    │           └── Yes\n",
      "    ├── Overcast\n",
      "    │   └── Yes\n",
      "    └── Rain\n",
      "        └── Wind\n",
      "            ├── Weak\n",
      "            │   └── Yes\n",
      "            └── Strong\n",
      "                └── No\n"
     ]
    }
   ],
   "source": [
    "from anytree import Node, RenderTree\n",
    "from anytree.exporter import DotExporter\n",
    "import json\n",
    "\n",
    "def build_tree(data, parent=None):\n",
    "    if isinstance(data, dict):\n",
    "        for key, value in data.items():\n",
    "            node = Node(key, parent=parent)\n",
    "            build_tree(value, node)\n",
    "    else:\n",
    "        Node(data, parent=parent)\n",
    "\n",
    "root = Node(\"Decision Tree\")\n",
    "build_tree(decision_tree, root)\n",
    "\n",
    "for pre, fill, node in RenderTree(root):\n",
    "    print(f\"{pre}{node.name}\")"
   ]
  }
 ],
 "metadata": {
  "colab": {
   "provenance": []
  },
  "kernelspec": {
   "display_name": "Python 3",
   "name": "python3"
  },
  "language_info": {
   "name": "python"
  }
 },
 "nbformat": 4,
 "nbformat_minor": 0
}
